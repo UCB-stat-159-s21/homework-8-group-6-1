{
 "cells": [
  {
   "cell_type": "markdown",
   "metadata": {},
   "source": [
    "### For part 2, we can use the same method in part 1 on this intermediate endpoints - symptoms within 1 week and symptoms after 1 week. However, we need more assumption for implementing method in part 2. First of all, since patients will seek the treatment which can cause symptoms with different duration, we should assume that pateints will seek same treatment for covid. In addition, for current endpoint, we can only test whether there are symtoms instead of how the symtoms are (duration, severity)."
   ]
  }
 ],
 "metadata": {
  "kernelspec": {
   "display_name": "hw7",
   "language": "python",
   "name": "hw7"
  },
  "toc": {
   "base_numbering": 1,
   "nav_menu": {},
   "number_sections": true,
   "sideBar": true,
   "skip_h1_title": false,
   "title_cell": "Table of Contents",
   "title_sidebar": "Contents",
   "toc_cell": false,
   "toc_position": {},
   "toc_section_display": true,
   "toc_window_display": false
  },
  "varInspector": {
   "cols": {
    "lenName": 16,
    "lenType": 16,
    "lenVar": 40
   },
   "kernels_config": {
    "python": {
     "delete_cmd_postfix": "",
     "delete_cmd_prefix": "del ",
     "library": "var_list.py",
     "varRefreshCmd": "print(var_dic_list())"
    },
    "r": {
     "delete_cmd_postfix": ") ",
     "delete_cmd_prefix": "rm(",
     "library": "var_list.r",
     "varRefreshCmd": "cat(var_dic_list()) "
    }
   },
   "types_to_exclude": [
    "module",
    "function",
    "builtin_function_or_method",
    "instance",
    "_Feature"
   ],
   "window_display": false
  }
 },
 "nbformat": 4,
 "nbformat_minor": 2
}
