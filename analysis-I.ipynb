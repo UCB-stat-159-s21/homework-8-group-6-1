{
 "cells": [
  {
   "cell_type": "code",
   "execution_count": 1,
   "metadata": {
    "ExecuteTime": {
     "end_time": "2021-05-14T02:01:44.002934Z",
     "start_time": "2021-05-14T02:01:43.394739Z"
    }
   },
   "outputs": [],
   "source": [
    "from permute.utils import hypergeom_conf_interval\n",
    "from cibin.utils import *"
   ]
  },
  {
   "cell_type": "markdown",
   "metadata": {},
   "source": [
    "# Data from Regeneron Press"
   ]
  },
  {
   "cell_type": "code",
   "execution_count": 3,
   "metadata": {
    "ExecuteTime": {
     "end_time": "2021-05-14T02:01:50.752151Z",
     "start_time": "2021-05-14T02:01:50.729600Z"
    }
   },
   "outputs": [
    {
     "data": {
      "text/plain": [
       "(11, 742, 59, 693)"
      ]
     },
     "execution_count": 3,
     "metadata": {},
     "output_type": "execute_result"
    }
   ],
   "source": [
    "n, m = 753, 752\n",
    "N = n+m\n",
    "n01, n11 = 59, 11\n",
    "n00 = m - n01\n",
    "n10 = n - n11\n",
    "alpha = 0.05\n",
    "n11, n10, n01, n00"
   ]
  },
  {
   "cell_type": "markdown",
   "metadata": {},
   "source": [
    "## One-sided confidence intervals"
   ]
  },
  {
   "cell_type": "markdown",
   "metadata": {},
   "source": [
    "### Upper one-sided"
   ]
  },
  {
   "cell_type": "code",
   "execution_count": 5,
   "metadata": {
    "ExecuteTime": {
     "end_time": "2021-05-14T02:02:25.112299Z",
     "start_time": "2021-05-14T02:02:25.087532Z"
    }
   },
   "outputs": [
    {
     "data": {
      "text/plain": [
       "[-0.5, 0.306312292358804]"
      ]
     },
     "execution_count": 5,
     "metadata": {},
     "output_type": "execute_result"
    }
   ],
   "source": [
    "N_dot_1 = hypergeom_conf_interval(n11*N/n, n11, N, 1-alpha/2, alternative='upper')\n",
    "N_1_dot = hypergeom_conf_interval(n01*N/m, n01, N, 1-alpha/2, alternative='lower')\n",
    "\n",
    "upper = (N_dot_1[1] - N_1_dot[0])/N\n",
    "\n",
    "ci = [-0.5, upper]\n",
    "ci"
   ]
  },
  {
   "cell_type": "markdown",
   "metadata": {},
   "source": [
    "### Lower one-sided"
   ]
  },
  {
   "cell_type": "code",
   "execution_count": 6,
   "metadata": {
    "ExecuteTime": {
     "end_time": "2021-05-14T02:02:38.495243Z",
     "start_time": "2021-05-14T02:02:38.464248Z"
    }
   },
   "outputs": [
    {
     "data": {
      "text/plain": [
       "[-0.30498338870431896, 0.5]"
      ]
     },
     "execution_count": 6,
     "metadata": {},
     "output_type": "execute_result"
    }
   ],
   "source": [
    "N_dot_1 = hypergeom_conf_interval(n11*N/n, n11, N, 1-alpha/2, alternative='lower')\n",
    "N_1_dot = hypergeom_conf_interval(n01*N/m, n01, N, 1-alpha/2, alternative='upper')\n",
    "\n",
    "lower = (N_dot_1[0] - N_1_dot[1])/N\n",
    "\n",
    "ci = [lower, 0.5]\n",
    "ci"
   ]
  },
  {
   "cell_type": "markdown",
   "metadata": {},
   "source": [
    "### Two-sided"
   ]
  },
  {
   "cell_type": "code",
   "execution_count": 15,
   "metadata": {
    "ExecuteTime": {
     "end_time": "2021-05-14T02:06:47.279867Z",
     "start_time": "2021-05-14T02:06:47.242858Z"
    }
   },
   "outputs": [
    {
     "data": {
      "text/plain": [
       "[-0.30498338870431896, 0.306312292358804]"
      ]
     },
     "execution_count": 15,
     "metadata": {},
     "output_type": "execute_result"
    }
   ],
   "source": [
    "N_dot_1 = hypergeom_conf_interval(n11*N/n, n11, N, 1-alpha, alternative='two-sided')\n",
    "N_1_dot = hypergeom_conf_interval(n01*N/m, n01, N, 1-alpha, alternative='two-sided')\n",
    "lower = (N_dot_1[0] - N_1_dot[1])/N\n",
    "upper = (N_dot_1[1] - N_1_dot[0])/N\n",
    "ci = [lower, upper]\n",
    "ci"
   ]
  },
  {
   "cell_type": "code",
   "execution_count": 16,
   "metadata": {
    "ExecuteTime": {
     "end_time": "2021-05-14T02:07:01.251844Z",
     "start_time": "2021-05-14T02:06:58.281815Z"
    },
    "collapsed": true
   },
   "outputs": [
    {
     "ename": "IndexError",
     "evalue": "index 0 is out of bounds for axis 0 with size 0",
     "output_type": "error",
     "traceback": [
      "\u001b[0;31m---------------------------------------------------------------------------\u001b[0m",
      "\u001b[0;31mIndexError\u001b[0m                                Traceback (most recent call last)",
      "\u001b[0;32m<ipython-input-16-dfc7efdd03c6>\u001b[0m in \u001b[0;36m<module>\u001b[0;34m\u001b[0m\n\u001b[0;32m----> 1\u001b[0;31m \u001b[0mtau_twosided_ci\u001b[0m\u001b[0;34m(\u001b[0m\u001b[0mn11\u001b[0m\u001b[0;34m,\u001b[0m \u001b[0mn10\u001b[0m\u001b[0;34m,\u001b[0m \u001b[0mn01\u001b[0m\u001b[0;34m,\u001b[0m \u001b[0mn00\u001b[0m\u001b[0;34m,\u001b[0m \u001b[0;36m0.05\u001b[0m\u001b[0;34m,\u001b[0m \u001b[0;32mFalse\u001b[0m\u001b[0;34m,\u001b[0m \u001b[0;36m10\u001b[0m\u001b[0;34m**\u001b[0m\u001b[0;36m3\u001b[0m\u001b[0;34m,\u001b[0m \u001b[0;36m10\u001b[0m\u001b[0;34m)\u001b[0m\u001b[0;34m\u001b[0m\u001b[0;34m\u001b[0m\u001b[0m\n\u001b[0m",
      "\u001b[0;32m~/Desktop/hw8/homework-8-group-6-1/cibin/utils.py\u001b[0m in \u001b[0;36mtau_twosided_ci\u001b[0;34m(n11, n10, n01, n00, alpha, exact, max_combinations, reps)\u001b[0m\n\u001b[1;32m    597\u001b[0m     \u001b[0mm\u001b[0m \u001b[0;34m=\u001b[0m \u001b[0mn11\u001b[0m\u001b[0;34m+\u001b[0m\u001b[0mn10\u001b[0m\u001b[0;34m\u001b[0m\u001b[0;34m\u001b[0m\u001b[0m\n\u001b[1;32m    598\u001b[0m     \u001b[0;32mif\u001b[0m \u001b[0mm\u001b[0m \u001b[0;34m>\u001b[0m \u001b[0;34m(\u001b[0m\u001b[0mn\u001b[0m\u001b[0;34m/\u001b[0m\u001b[0;36m2\u001b[0m\u001b[0;34m)\u001b[0m\u001b[0;34m:\u001b[0m\u001b[0;34m\u001b[0m\u001b[0;34m\u001b[0m\u001b[0m\n\u001b[0;32m--> 599\u001b[0;31m         ci = tau_twoside_less_treated(n11, n10, n01, n00, alpha, exact,\n\u001b[0m\u001b[1;32m    600\u001b[0m                                       max_combinations, reps)\n\u001b[1;32m    601\u001b[0m         \u001b[0mtau_lower\u001b[0m \u001b[0;34m=\u001b[0m \u001b[0;34m-\u001b[0m\u001b[0mci\u001b[0m\u001b[0;34m[\u001b[0m\u001b[0;36m1\u001b[0m\u001b[0;34m]\u001b[0m\u001b[0;34m\u001b[0m\u001b[0;34m\u001b[0m\u001b[0m\n",
      "\u001b[0;32m~/Desktop/hw8/homework-8-group-6-1/cibin/utils.py\u001b[0m in \u001b[0;36mtau_twoside_less_treated\u001b[0;34m(n11, n10, n01, n00, alpha, exact, max_combinations, reps)\u001b[0m\n\u001b[1;32m    542\u001b[0m             \u001b[0mZ_all\u001b[0m \u001b[0;34m=\u001b[0m \u001b[0mcombs\u001b[0m\u001b[0;34m(\u001b[0m\u001b[0mn\u001b[0m\u001b[0;34m,\u001b[0m \u001b[0mm\u001b[0m\u001b[0;34m,\u001b[0m \u001b[0mreps\u001b[0m\u001b[0;34m)\u001b[0m\u001b[0;34m\u001b[0m\u001b[0;34m\u001b[0m\u001b[0m\n\u001b[1;32m    543\u001b[0m     \u001b[0mci_lower\u001b[0m \u001b[0;34m=\u001b[0m \u001b[0mtau_twoside_lower\u001b[0m\u001b[0;34m(\u001b[0m\u001b[0mn11\u001b[0m\u001b[0;34m,\u001b[0m \u001b[0mn10\u001b[0m\u001b[0;34m,\u001b[0m \u001b[0mn01\u001b[0m\u001b[0;34m,\u001b[0m \u001b[0mn00\u001b[0m\u001b[0;34m,\u001b[0m \u001b[0malpha\u001b[0m\u001b[0;34m,\u001b[0m \u001b[0mZ_all\u001b[0m\u001b[0;34m,\u001b[0m \u001b[0mexact\u001b[0m\u001b[0;34m,\u001b[0m \u001b[0mreps\u001b[0m\u001b[0;34m)\u001b[0m\u001b[0;34m\u001b[0m\u001b[0;34m\u001b[0m\u001b[0m\n\u001b[0;32m--> 544\u001b[0;31m     \u001b[0mci_upper\u001b[0m \u001b[0;34m=\u001b[0m \u001b[0mtau_twoside_lower\u001b[0m\u001b[0;34m(\u001b[0m\u001b[0mn10\u001b[0m\u001b[0;34m,\u001b[0m \u001b[0mn11\u001b[0m\u001b[0;34m,\u001b[0m \u001b[0mn00\u001b[0m\u001b[0;34m,\u001b[0m \u001b[0mn01\u001b[0m\u001b[0;34m,\u001b[0m \u001b[0malpha\u001b[0m\u001b[0;34m,\u001b[0m \u001b[0mZ_all\u001b[0m\u001b[0;34m,\u001b[0m \u001b[0mexact\u001b[0m\u001b[0;34m,\u001b[0m \u001b[0mreps\u001b[0m\u001b[0;34m)\u001b[0m\u001b[0;34m\u001b[0m\u001b[0;34m\u001b[0m\u001b[0m\n\u001b[0m\u001b[1;32m    545\u001b[0m     \u001b[0mrand_test_total\u001b[0m \u001b[0;34m=\u001b[0m \u001b[0mci_lower\u001b[0m\u001b[0;34m[\u001b[0m\u001b[0;36m4\u001b[0m\u001b[0;34m]\u001b[0m \u001b[0;34m+\u001b[0m \u001b[0mci_upper\u001b[0m\u001b[0;34m[\u001b[0m\u001b[0;36m4\u001b[0m\u001b[0;34m]\u001b[0m\u001b[0;34m\u001b[0m\u001b[0;34m\u001b[0m\u001b[0m\n\u001b[1;32m    546\u001b[0m     \u001b[0mtau_lower\u001b[0m \u001b[0;34m=\u001b[0m \u001b[0mmin\u001b[0m\u001b[0;34m(\u001b[0m\u001b[0mci_lower\u001b[0m\u001b[0;34m[\u001b[0m\u001b[0;36m0\u001b[0m\u001b[0;34m]\u001b[0m\u001b[0;34m,\u001b[0m \u001b[0;34m-\u001b[0m\u001b[0;36m1\u001b[0m\u001b[0;34m*\u001b[0m\u001b[0mci_upper\u001b[0m\u001b[0;34m[\u001b[0m\u001b[0;36m2\u001b[0m\u001b[0;34m]\u001b[0m\u001b[0;34m)\u001b[0m\u001b[0;34m\u001b[0m\u001b[0;34m\u001b[0m\u001b[0m\n",
      "\u001b[0;32m~/Desktop/hw8/homework-8-group-6-1/cibin/utils.py\u001b[0m in \u001b[0;36mtau_twoside_lower\u001b[0;34m(n11, n10, n01, n00, alpha, Z_all, exact, reps)\u001b[0m\n\u001b[1;32m    471\u001b[0m     \u001b[0mrand_test_total\u001b[0m \u001b[0;34m=\u001b[0m \u001b[0;36m0\u001b[0m\u001b[0;34m\u001b[0m\u001b[0;34m\u001b[0m\u001b[0m\n\u001b[1;32m    472\u001b[0m     \u001b[0;32mfor\u001b[0m \u001b[0mN11\u001b[0m \u001b[0;32min\u001b[0m \u001b[0mnp\u001b[0m\u001b[0;34m.\u001b[0m\u001b[0marange\u001b[0m\u001b[0;34m(\u001b[0m\u001b[0mint\u001b[0m\u001b[0;34m(\u001b[0m\u001b[0mmin\u001b[0m\u001b[0;34m(\u001b[0m\u001b[0mn11\u001b[0m\u001b[0;34m+\u001b[0m\u001b[0mn01\u001b[0m\u001b[0;34m,\u001b[0m \u001b[0mn\u001b[0m\u001b[0;34m+\u001b[0m\u001b[0mntau_obs\u001b[0m\u001b[0;34m)\u001b[0m\u001b[0;34m)\u001b[0m\u001b[0;34m+\u001b[0m\u001b[0;36m1\u001b[0m\u001b[0;34m)\u001b[0m\u001b[0;34m:\u001b[0m\u001b[0;34m\u001b[0m\u001b[0;34m\u001b[0m\u001b[0m\n\u001b[0;32m--> 473\u001b[0;31m         tau_min_N11 = tau_lower_N11_twoside(n11, n10, n01, n00, N11, Z_all,\n\u001b[0m\u001b[1;32m    474\u001b[0m                                             alpha)\n\u001b[1;32m    475\u001b[0m         \u001b[0mrand_test_total\u001b[0m \u001b[0;34m=\u001b[0m \u001b[0mrand_test_total\u001b[0m \u001b[0;34m+\u001b[0m \u001b[0mtau_min_N11\u001b[0m\u001b[0;34m[\u001b[0m\u001b[0;36m4\u001b[0m\u001b[0;34m]\u001b[0m\u001b[0;34m\u001b[0m\u001b[0;34m\u001b[0m\u001b[0m\n",
      "\u001b[0;32m~/Desktop/hw8/homework-8-group-6-1/cibin/utils.py\u001b[0m in \u001b[0;36mtau_lower_N11_twoside\u001b[0;34m(n11, n10, n01, n00, N11, Z_all, alpha)\u001b[0m\n\u001b[1;32m    412\u001b[0m         accept_pos = np.flatnonzero(N10_vec[compat]-N01_vec[compat] ==\n\u001b[1;32m    413\u001b[0m                                     n*tau_max)\n\u001b[0;32m--> 414\u001b[0;31m         \u001b[0maccept_pos\u001b[0m \u001b[0;34m=\u001b[0m \u001b[0maccept_pos\u001b[0m\u001b[0;34m[\u001b[0m\u001b[0;36m0\u001b[0m\u001b[0;34m]\u001b[0m\u001b[0;34m\u001b[0m\u001b[0;34m\u001b[0m\u001b[0m\n\u001b[0m\u001b[1;32m    415\u001b[0m         N_accept_max = np.array([N11, N10_vec[compat][accept_pos],\n\u001b[1;32m    416\u001b[0m                                  \u001b[0mN01_vec\u001b[0m\u001b[0;34m[\u001b[0m\u001b[0mcompat\u001b[0m\u001b[0;34m]\u001b[0m\u001b[0;34m[\u001b[0m\u001b[0maccept_pos\u001b[0m\u001b[0;34m]\u001b[0m\u001b[0;34m,\u001b[0m\u001b[0;34m\u001b[0m\u001b[0;34m\u001b[0m\u001b[0m\n",
      "\u001b[0;31mIndexError\u001b[0m: index 0 is out of bounds for axis 0 with size 0"
     ]
    }
   ],
   "source": [
    "tau_twosided_ci(n11, n10, n01, n00, 0.05, False, 10**3, 10)"
   ]
  }
 ],
 "metadata": {
  "kernelspec": {
   "display_name": "hw7",
   "language": "python",
   "name": "hw7"
  },
  "language_info": {
   "codemirror_mode": {
    "name": "ipython",
    "version": 3
   },
   "file_extension": ".py",
   "mimetype": "text/x-python",
   "name": "python",
   "nbconvert_exporter": "python",
   "pygments_lexer": "ipython3",
   "version": "3.9.4"
  },
  "toc": {
   "base_numbering": 1,
   "nav_menu": {},
   "number_sections": false,
   "sideBar": true,
   "skip_h1_title": false,
   "title_cell": "Table of Contents",
   "title_sidebar": "Contents",
   "toc_cell": false,
   "toc_position": {},
   "toc_section_display": true,
   "toc_window_display": true
  },
  "varInspector": {
   "cols": {
    "lenName": 16,
    "lenType": 16,
    "lenVar": 40
   },
   "kernels_config": {
    "python": {
     "delete_cmd_postfix": "",
     "delete_cmd_prefix": "del ",
     "library": "var_list.py",
     "varRefreshCmd": "print(var_dic_list())"
    },
    "r": {
     "delete_cmd_postfix": ") ",
     "delete_cmd_prefix": "rm(",
     "library": "var_list.r",
     "varRefreshCmd": "cat(var_dic_list()) "
    }
   },
   "types_to_exclude": [
    "module",
    "function",
    "builtin_function_or_method",
    "instance",
    "_Feature"
   ],
   "window_display": false
  }
 },
 "nbformat": 4,
 "nbformat_minor": 2
}
